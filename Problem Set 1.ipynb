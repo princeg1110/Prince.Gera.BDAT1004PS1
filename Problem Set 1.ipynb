{
 "cells": [
  {
   "cell_type": "markdown",
   "id": "2bb80499",
   "metadata": {},
   "source": [
    "Question 1\n",
    "\n",
    "What data type is each of the following (evaluate where necessary)?"
   ]
  },
  {
   "cell_type": "code",
   "execution_count": 5,
   "id": "65053b00",
   "metadata": {},
   "outputs": [
    {
     "data": {
      "text/plain": [
       "int"
      ]
     },
     "execution_count": 5,
     "metadata": {},
     "output_type": "execute_result"
    }
   ],
   "source": [
    "type (5)  #integer"
   ]
  },
  {
   "cell_type": "code",
   "execution_count": 6,
   "id": "fc22db16",
   "metadata": {},
   "outputs": [
    {
     "data": {
      "text/plain": [
       "float"
      ]
     },
     "execution_count": 6,
     "metadata": {},
     "output_type": "execute_result"
    }
   ],
   "source": [
    "type (5.0) #float"
   ]
  },
  {
   "cell_type": "code",
   "execution_count": 7,
   "id": "ea935743",
   "metadata": {},
   "outputs": [
    {
     "data": {
      "text/plain": [
       "bool"
      ]
     },
     "execution_count": 7,
     "metadata": {},
     "output_type": "execute_result"
    }
   ],
   "source": [
    "type (5>1) #since the given statement is true, thus, it is boolean"
   ]
  },
  {
   "cell_type": "code",
   "execution_count": 8,
   "id": "dd8a45b7",
   "metadata": {},
   "outputs": [
    {
     "data": {
      "text/plain": [
       "str"
      ]
     },
     "execution_count": 8,
     "metadata": {},
     "output_type": "execute_result"
    }
   ],
   "source": [
    "type('5') #string"
   ]
  },
  {
   "cell_type": "code",
   "execution_count": 13,
   "id": "7649196f",
   "metadata": {},
   "outputs": [
    {
     "data": {
      "text/plain": [
       "int"
      ]
     },
     "execution_count": 13,
     "metadata": {},
     "output_type": "execute_result"
    }
   ],
   "source": [
    "type(5*2) #since the given information is in number format, so, the answer would be in Integer"
   ]
  },
  {
   "cell_type": "code",
   "execution_count": 14,
   "id": "4dbb98ed",
   "metadata": {},
   "outputs": [
    {
     "data": {
      "text/plain": [
       "str"
      ]
     },
     "execution_count": 14,
     "metadata": {},
     "output_type": "execute_result"
    }
   ],
   "source": [
    "type ('5'+'2') #since the given expression is in string format, so the answer would be in string"
   ]
  },
  {
   "cell_type": "code",
   "execution_count": 15,
   "id": "9f2d6236",
   "metadata": {},
   "outputs": [
    {
     "data": {
      "text/plain": [
       "float"
      ]
     },
     "execution_count": 15,
     "metadata": {},
     "output_type": "execute_result"
    }
   ],
   "source": [
    "type (5/2) #the result of the given expression would be 2.5 and it is float"
   ]
  },
  {
   "cell_type": "code",
   "execution_count": 16,
   "id": "746ca6d8",
   "metadata": {},
   "outputs": [
    {
     "data": {
      "text/plain": [
       "set"
      ]
     },
     "execution_count": 16,
     "metadata": {},
     "output_type": "execute_result"
    }
   ],
   "source": [
    "type ({5,2,1}) #set"
   ]
  },
  {
   "cell_type": "code",
   "execution_count": 17,
   "id": "952ea4de",
   "metadata": {},
   "outputs": [
    {
     "data": {
      "text/plain": [
       "bool"
      ]
     },
     "execution_count": 17,
     "metadata": {},
     "output_type": "execute_result"
    }
   ],
   "source": [
    "type (5==3) #boolean"
   ]
  },
  {
   "cell_type": "code",
   "execution_count": 20,
   "id": "2bbe44b3",
   "metadata": {},
   "outputs": [
    {
     "data": {
      "text/plain": [
       "float"
      ]
     },
     "execution_count": 20,
     "metadata": {},
     "output_type": "execute_result"
    }
   ],
   "source": [
    "import math\n",
    "type (math.pi) #the value of pi is 3.14 which is float"
   ]
  },
  {
   "cell_type": "markdown",
   "id": "fba3f4a7",
   "metadata": {},
   "source": [
    "Question 2\n",
    "\n",
    "Write (and evaluate) python expressions that answer these questions:"
   ]
  },
  {
   "cell_type": "markdown",
   "id": "e9a283cb",
   "metadata": {},
   "source": [
    "a. How many letters are there in 'Supercalifragilisticexpialidocious'?"
   ]
  },
  {
   "cell_type": "code",
   "execution_count": 21,
   "id": "26c06f75",
   "metadata": {},
   "outputs": [
    {
     "name": "stdout",
     "output_type": "stream",
     "text": [
      "34\n"
     ]
    }
   ],
   "source": [
    "print(len('Supercalifragilisticexpialidocious'))"
   ]
  },
  {
   "cell_type": "markdown",
   "id": "1df0bc9f",
   "metadata": {},
   "source": [
    "b. Does 'Supercalifragilisticexpialidocious' contain 'ice' as a substring?"
   ]
  },
  {
   "cell_type": "code",
   "execution_count": 22,
   "id": "6cb58a21",
   "metadata": {},
   "outputs": [
    {
     "name": "stdout",
     "output_type": "stream",
     "text": [
      "True\n"
     ]
    }
   ],
   "source": [
    "print('ice' in 'Supercalifragilisticexpialidocious')"
   ]
  },
  {
   "cell_type": "markdown",
   "id": "9bd12599",
   "metadata": {},
   "source": [
    "c. Which of the following words is the longest:\n",
    "\n",
    "Supercalifragilisticexpialidocious, Honorificabilitudinitatibus, or Bababadalgharaghtakamminarronnkonn?"
   ]
  },
  {
   "cell_type": "code",
   "execution_count": 24,
   "id": "ffcff0b3",
   "metadata": {},
   "outputs": [
    {
     "name": "stdout",
     "output_type": "stream",
     "text": [
      "The longest words are: ['Supercalifragilisticexpialidocious', 'Bababadalgharaghtakamminarronnkonn']\n"
     ]
    }
   ],
   "source": [
    "words = [\"Supercalifragilisticexpialidocious\", \"Honorificabilitudinitatibus\", \"Bababadalgharaghtakamminarronnkonn\"]\n",
    "\n",
    "# longest word length\n",
    "max_length = max(len(word) for word in words)\n",
    "\n",
    "# all words with the longest length\n",
    "longest_words = [word for word in words if len(word) == max_length]\n",
    "\n",
    "print(\"The longest words are:\", longest_words)"
   ]
  },
  {
   "cell_type": "markdown",
   "id": "c7a909bc",
   "metadata": {},
   "source": [
    "d. Which composer comes first in the dictionary:'Berlioz', 'Borodin', 'Brian','Bartok', 'Bellini', 'Buxtehude', 'Bernstein'. Which one comes last?"
   ]
  },
  {
   "cell_type": "code",
   "execution_count": 25,
   "id": "90dc173b",
   "metadata": {},
   "outputs": [
    {
     "name": "stdout",
     "output_type": "stream",
     "text": [
      "First Composer :  Bartok\n",
      "Last Composer :  Buxtehude\n"
     ]
    }
   ],
   "source": [
    "list=['Berlioz', 'Borodin', 'Brian', 'Bartok', 'Bellini', 'Buxtehude', 'Bernstein']\n",
    "list.sort() #sort array by dictionary\n",
    "print(\"First Composer : \",list[0]) #First Composer \n",
    "print(\"Last Composer : \",list[-1]) #Last Composer"
   ]
  },
  {
   "cell_type": "markdown",
   "id": "5b27dce3",
   "metadata": {},
   "source": [
    "Question 3\n",
    "\n",
    "Implement function triangleArea(a,b,c) that takes as input the lengths of the 3 sides of a triangle and returns the area of the triangle. By Heron's formula, the area of a triangle with side lengths a, b, and c is sqrt(s(s - a)(s - b)(s - c)) , where s = (a + b + c) /2."
   ]
  },
  {
   "cell_type": "code",
   "execution_count": 26,
   "id": "f570ec17",
   "metadata": {},
   "outputs": [
    {
     "name": "stdout",
     "output_type": "stream",
     "text": [
      "The Area of Triangle is :  1.7320508075688772\n"
     ]
    }
   ],
   "source": [
    "import math\n",
    "def triangleArea(a,b,c):\n",
    "    s=(a+b+c)/2\n",
    "    area=math.sqrt((s*(s-a)*(s-b)*(s-c)))\n",
    "    print('The Area of Triangle is : ',area)\n",
    "    \n",
    "triangleArea(2,2,2)"
   ]
  },
  {
   "cell_type": "markdown",
   "id": "0f89f0b8",
   "metadata": {},
   "source": [
    "Question 4\n",
    "\n",
    "Write a program in python to separate odd and even integers in separate arrays."
   ]
  },
  {
   "cell_type": "code",
   "execution_count": 28,
   "id": "54348e4a",
   "metadata": {},
   "outputs": [
    {
     "name": "stdout",
     "output_type": "stream",
     "text": [
      "Enter the Length of Array : 5\n",
      "Enter the Elements of Array : 25\n",
      "Enter the Elements of Array : 47\n",
      "Enter the Elements of Array : 42\n",
      "Enter the Elements of Array : 56\n",
      "Enter the Elements of Array : 32\n",
      "Original Array : 25 47 42 56 32 \n",
      " Even Elements of Array : 42 56 32 \n",
      " Odd Elements of Array : 25 47 "
     ]
    }
   ],
   "source": [
    "no=int(input(\"Enter the Length of Array : \")) # taking Input from the user\n",
    "list1=[] # Blank  list1 created \n",
    "odd=[] # Blank odd list created \n",
    "even=[]# Blank even list created \n",
    "for i in range(no):\n",
    "    a=int(input(\"Enter the Elements of Array : \")) \n",
    "    list1.append(a) #store value in list1\n",
    "    if a%2==0: # condition for even number \n",
    "        even.append(a) #append in even list\n",
    "    else :\n",
    "        odd.append(a) #append in odd list\n",
    "print(\"Original Array : \",end='')\n",
    "for i in list1:\n",
    "    print(i,end=' ')\n",
    "    \n",
    "print(\"\\n Even Elements of Array : \",end='')\n",
    "for i in even:\n",
    "    print(i,end=' ')\n",
    "    \n",
    "print(\"\\n Odd Elements of Array : \",end='')\n",
    "for i in odd:\n",
    "    print(i,end=' ')\n"
   ]
  },
  {
   "cell_type": "markdown",
   "id": "462f1a7e",
   "metadata": {},
   "source": [
    "Question 5\n",
    "\n",
    "a. Write a function inside(x,y,x1,y1,x2,y2) that returns True or False depending on whether the point (x,y) lies in the rectangle with lower left corner (x1,y1) and upper right corner (x2,y2).\n",
    "\n",
    ">>> inside(1,1,0,0,2,3)\n",
    "True\n",
    "\n",
    ">>> inside(-1,-1,0,0,2,3) False"
   ]
  },
  {
   "cell_type": "code",
   "execution_count": 29,
   "id": "354031a4",
   "metadata": {},
   "outputs": [
    {
     "name": "stdout",
     "output_type": "stream",
     "text": [
      "True\n",
      "False\n"
     ]
    }
   ],
   "source": [
    "def inside(x,y,x1,y1,x2,y2):\n",
    "    if ((x-x1)>0 and (x2-x)>0 and (y-y1)>0 and (y2-y)>0): # Condition check for given point inside the rectangle\n",
    "        print(\"True\")\n",
    "    else :\n",
    "        print(\"False\")\n",
    "\n",
    "inside(1,1,0,0,2,3)\n",
    "inside(-1,-1,0,0,2,3)"
   ]
  },
  {
   "cell_type": "markdown",
   "id": "01a4d76f",
   "metadata": {},
   "source": [
    "b. Use function inside() from part a. to write an expression that tests whetherthe point (1,1) lies in both of the following rectangles: one with lower leftcorner (0.3, 0.5) and upper right corner (1.1, 0.7) and the other with lowerleft corner (0.5, 0.2) and upper right corner (1.1, 2)"
   ]
  },
  {
   "cell_type": "code",
   "execution_count": 30,
   "id": "7e4da0fb",
   "metadata": {},
   "outputs": [
    {
     "name": "stdout",
     "output_type": "stream",
     "text": [
      "False\n",
      "True\n"
     ]
    }
   ],
   "source": [
    "inside(1,1,0.3,0.5,1.1,0.7)\n",
    "inside(1,1,0.5,0.2,1.1,2)"
   ]
  },
  {
   "cell_type": "markdown",
   "id": "2e12680f",
   "metadata": {},
   "source": [
    "Question 6\n",
    "\n",
    "You can turn a word into pig-Latin using the following two rules (simplified):• If the word starts with a consonant, move that letter to the end and append'ay'. For example, 'happy' becomes 'appyhay' and 'pencil' becomes 'encilpay'.• If the word starts with a vowel, simply append 'way' to the end of the word.For example, 'enter' becomes 'enterway' and 'other' becomes 'otherway' . Forour purposes, there are 5 vowels: a, e, i, o, u (so we count y as a consonant).Write a function pig() that takes a word (i.e., a string) as input and returns its pig-Latin form. Your function should still work if the input word contains upper casecharacters. Your output should always be lower case however.>>> pig('happy')'appyhay'>>> pig('Enter')'enterway'"
   ]
  },
  {
   "cell_type": "code",
   "execution_count": 32,
   "id": "f506b926",
   "metadata": {},
   "outputs": [
    {
     "name": "stdout",
     "output_type": "stream",
     "text": [
      "appyhay\n",
      "enterway\n"
     ]
    }
   ],
   "source": [
    "vowel=['a','e','i','o','u'] #vowels defined\n",
    "def pig(word): \n",
    "    word=word.lower()\n",
    "    if word[0].lower() in vowel: #To check if the first letter is vowel or not  \n",
    "        word=word+'way' # append 'way'\n",
    "    else:\n",
    "        a=word[0]\n",
    "        word=word[1:]+word[0]+'ay' # get the word without first char and append first char and then add 'ay' in the end \n",
    "    print(word) \n",
    "    \n",
    "pig('happy')\n",
    "pig('ENTER')"
   ]
  },
  {
   "cell_type": "markdown",
   "id": "2a3128e5",
   "metadata": {},
   "source": [
    "Question 7\n",
    "\n",
    "File bloodtype1.txt records blood-types of patients (A, B, AB, O or OO) at a clinic.Write a function bldcount() that reads the file with name name and reports (i.e.,prints) how many patients there are in each bloodtype.>>> bldcount('bloodtype.txt')There are 10 patients of blood type A.There is one patient of blood type B.There are 10 patients of blood type AB.There are 12 patients of blood type O.There are no patients of blood type OO."
   ]
  },
  {
   "cell_type": "code",
   "execution_count": 38,
   "id": "939f77f8",
   "metadata": {},
   "outputs": [
    {
     "name": "stdout",
     "output_type": "stream",
     "text": [
      "There are 15 Patients of Blood type  A.\n",
      "There is 1 patient of Blood type  B\n",
      "There are 13 Patients of Blood type  AB.\n",
      "There are 15 Patients of Blood type  O.\n",
      "There is no patient of Blood type  OO\n"
     ]
    }
   ],
   "source": [
    "infile = open('bloodtype1.txt')\n",
    "data = infile.read()\n",
    "infile.close()\n",
    "wordlist = data.split()\n",
    "\n",
    "btype=['A','B','AB','O','OO']\n",
    "for i in btype:\n",
    "    if wordlist.count(i)==1:\n",
    "        print(\"There is 1 patient of Blood type \",i)\n",
    "    elif wordlist.count(i)==0:\n",
    "        print(\"There is no patient of Blood type \",i)\n",
    "    else :\n",
    "        print(\"There are {a} Patients of Blood type  {value}.\".format(a=wordlist.count(i),value=i))"
   ]
  },
  {
   "cell_type": "markdown",
   "id": "9e141269",
   "metadata": {},
   "source": [
    "Question 8\n",
    "\n",
    "Write a function curconv() that takes as input:\n",
    "1. a currency represented using a string (e.g., 'JPY' for the Japanese Yen or\n",
    "'EUR' for the Euro)\n",
    "2. an amount\n",
    "and then converts and returns the amount in US dollars.\n",
    ">>> curconv('EUR', 100)\n",
    "122.96544\n",
    ">>> curconv('JPY', 100)\n",
    "1.241401"
   ]
  },
  {
   "cell_type": "code",
   "execution_count": 40,
   "id": "c776a30f",
   "metadata": {},
   "outputs": [
    {
     "name": "stdout",
     "output_type": "stream",
     "text": [
      "122.96544\n",
      "1.241401\n"
     ]
    }
   ],
   "source": [
    "infile = open('currencies.txt')\n",
    "data=infile.readlines()  \n",
    "curr_rate={} \n",
    "\n",
    "for i in data:\n",
    "    x=i.split()  \n",
    "    curr_rate[x[0]]=float(x[1])  \n",
    "    \n",
    "def curconv(curr,amt): \n",
    "    a=curr_rate.get(curr) \n",
    "    final_amount=amt*a\n",
    "    print(final_amount)\n",
    "\n",
    "curconv('EUR', 100)\n",
    "curconv('JPY', 100)"
   ]
  },
  {
   "cell_type": "markdown",
   "id": "6a9a29ed",
   "metadata": {},
   "source": [
    "Question 9\n",
    "\n",
    "Each of the following will cause an exception (an error). Identify what type of\n",
    "exception each will cause."
   ]
  },
  {
   "cell_type": "markdown",
   "id": "66585152",
   "metadata": {},
   "source": [
    "Trying to add incompatible variables, as in\n",
    "adding 6 + ‘a’"
   ]
  },
  {
   "cell_type": "code",
   "execution_count": 41,
   "id": "5c3389ed",
   "metadata": {},
   "outputs": [
    {
     "ename": "TypeError",
     "evalue": "unsupported operand type(s) for +: 'int' and 'str'",
     "output_type": "error",
     "traceback": [
      "\u001b[1;31m---------------------------------------------------------------------------\u001b[0m",
      "\u001b[1;31mTypeError\u001b[0m                                 Traceback (most recent call last)",
      "Cell \u001b[1;32mIn[41], line 1\u001b[0m\n\u001b[1;32m----> 1\u001b[0m \u001b[38;5;28mprint\u001b[39m(\u001b[38;5;241m6\u001b[39m\u001b[38;5;241m+\u001b[39m\u001b[38;5;124m'\u001b[39m\u001b[38;5;124ma\u001b[39m\u001b[38;5;124m'\u001b[39m)\n",
      "\u001b[1;31mTypeError\u001b[0m: unsupported operand type(s) for +: 'int' and 'str'"
     ]
    }
   ],
   "source": [
    "print(6+'a') \n",
    "# It would show this as an TypeError because 6 is Integer and 'a' is string and + is concatination operator /addtion; to perform the proper operation, they would need the values of same datatype."
   ]
  },
  {
   "cell_type": "markdown",
   "id": "7c9c68a3",
   "metadata": {},
   "source": [
    "Referring to the 12th item of a list that has only 10\n",
    "items"
   ]
  },
  {
   "cell_type": "code",
   "execution_count": 42,
   "id": "68dc6054",
   "metadata": {},
   "outputs": [
    {
     "ename": "IndexError",
     "evalue": "list index out of range",
     "output_type": "error",
     "traceback": [
      "\u001b[1;31m---------------------------------------------------------------------------\u001b[0m",
      "\u001b[1;31mIndexError\u001b[0m                                Traceback (most recent call last)",
      "Cell \u001b[1;32mIn[42], line 2\u001b[0m\n\u001b[0;32m      1\u001b[0m list1\u001b[38;5;241m=\u001b[39m[\u001b[38;5;241m1\u001b[39m,\u001b[38;5;241m2\u001b[39m,\u001b[38;5;241m3\u001b[39m,\u001b[38;5;241m4\u001b[39m,\u001b[38;5;241m5\u001b[39m,\u001b[38;5;241m6\u001b[39m,\u001b[38;5;241m7\u001b[39m,\u001b[38;5;241m8\u001b[39m,\u001b[38;5;241m9\u001b[39m,\u001b[38;5;241m0\u001b[39m]\n\u001b[1;32m----> 2\u001b[0m \u001b[38;5;28mprint\u001b[39m(list1[\u001b[38;5;241m12\u001b[39m])\n",
      "\u001b[1;31mIndexError\u001b[0m: list index out of range"
     ]
    }
   ],
   "source": [
    "list1=[1,2,3,4,5,6,7,8,9,0]\n",
    "print(list1[12]) \n",
    "\n",
    "#This would show the index error because there are only 10 items in the list but we need to refer the 12th item."
   ]
  },
  {
   "cell_type": "markdown",
   "id": "3a04bb9c",
   "metadata": {},
   "source": [
    "Using a value that is out of range for a function’s\n",
    "input, such as calling math.sqrt(-1.0)\n"
   ]
  },
  {
   "cell_type": "code",
   "execution_count": 43,
   "id": "68cc6772",
   "metadata": {},
   "outputs": [
    {
     "ename": "ValueError",
     "evalue": "math domain error",
     "output_type": "error",
     "traceback": [
      "\u001b[1;31m---------------------------------------------------------------------------\u001b[0m",
      "\u001b[1;31mValueError\u001b[0m                                Traceback (most recent call last)",
      "Cell \u001b[1;32mIn[43], line 2\u001b[0m\n\u001b[0;32m      1\u001b[0m \u001b[38;5;28;01mimport\u001b[39;00m \u001b[38;5;21;01mmath\u001b[39;00m\n\u001b[1;32m----> 2\u001b[0m \u001b[38;5;28mprint\u001b[39m(math\u001b[38;5;241m.\u001b[39msqrt(\u001b[38;5;241m-\u001b[39m\u001b[38;5;241m1.0\u001b[39m))\n",
      "\u001b[1;31mValueError\u001b[0m: math domain error"
     ]
    }
   ],
   "source": [
    "import math\n",
    "print(math.sqrt(-1.0))\n",
    "\n",
    "#the square root of negative number is not possible, thus, it would show the math domain error (or Value Error)."
   ]
  },
  {
   "cell_type": "markdown",
   "id": "85a44fe0",
   "metadata": {},
   "source": [
    "Using an undeclared variable, such as print(x)\n",
    "when x has not been defined "
   ]
  },
  {
   "cell_type": "code",
   "execution_count": 44,
   "id": "7e109e1f",
   "metadata": {},
   "outputs": [
    {
     "name": "stdout",
     "output_type": "stream",
     "text": [
      "['THB', '0.0313789', 'Thai', 'Baht']\n"
     ]
    }
   ],
   "source": [
    "print(x)\n",
    "#Variable 'x' is not defined anywhere, so, it will show the name error."
   ]
  },
  {
   "cell_type": "markdown",
   "id": "90777fa6",
   "metadata": {},
   "source": [
    "Trying to open a file that does not exist, such as\n",
    "mistyping the file name or looking in the wrong\n",
    "directory. "
   ]
  },
  {
   "cell_type": "code",
   "execution_count": 45,
   "id": "a60aed17",
   "metadata": {},
   "outputs": [
    {
     "ename": "FileNotFoundError",
     "evalue": "[Errno 2] No such file or directory: 'bloodtype2.txt'",
     "output_type": "error",
     "traceback": [
      "\u001b[1;31m---------------------------------------------------------------------------\u001b[0m",
      "\u001b[1;31mFileNotFoundError\u001b[0m                         Traceback (most recent call last)",
      "Cell \u001b[1;32mIn[45], line 1\u001b[0m\n\u001b[1;32m----> 1\u001b[0m infile \u001b[38;5;241m=\u001b[39m \u001b[38;5;28mopen\u001b[39m(\u001b[38;5;124m'\u001b[39m\u001b[38;5;124mbloodtype2.txt\u001b[39m\u001b[38;5;124m'\u001b[39m)\n",
      "File \u001b[1;32m~\\anaconda3\\Lib\\site-packages\\IPython\\core\\interactiveshell.py:284\u001b[0m, in \u001b[0;36m_modified_open\u001b[1;34m(file, *args, **kwargs)\u001b[0m\n\u001b[0;32m    277\u001b[0m \u001b[38;5;28;01mif\u001b[39;00m file \u001b[38;5;129;01min\u001b[39;00m {\u001b[38;5;241m0\u001b[39m, \u001b[38;5;241m1\u001b[39m, \u001b[38;5;241m2\u001b[39m}:\n\u001b[0;32m    278\u001b[0m     \u001b[38;5;28;01mraise\u001b[39;00m \u001b[38;5;167;01mValueError\u001b[39;00m(\n\u001b[0;32m    279\u001b[0m         \u001b[38;5;124mf\u001b[39m\u001b[38;5;124m\"\u001b[39m\u001b[38;5;124mIPython won\u001b[39m\u001b[38;5;124m'\u001b[39m\u001b[38;5;124mt let you open fd=\u001b[39m\u001b[38;5;132;01m{\u001b[39;00mfile\u001b[38;5;132;01m}\u001b[39;00m\u001b[38;5;124m by default \u001b[39m\u001b[38;5;124m\"\u001b[39m\n\u001b[0;32m    280\u001b[0m         \u001b[38;5;124m\"\u001b[39m\u001b[38;5;124mas it is likely to crash IPython. If you know what you are doing, \u001b[39m\u001b[38;5;124m\"\u001b[39m\n\u001b[0;32m    281\u001b[0m         \u001b[38;5;124m\"\u001b[39m\u001b[38;5;124myou can use builtins\u001b[39m\u001b[38;5;124m'\u001b[39m\u001b[38;5;124m open.\u001b[39m\u001b[38;5;124m\"\u001b[39m\n\u001b[0;32m    282\u001b[0m     )\n\u001b[1;32m--> 284\u001b[0m \u001b[38;5;28;01mreturn\u001b[39;00m io_open(file, \u001b[38;5;241m*\u001b[39margs, \u001b[38;5;241m*\u001b[39m\u001b[38;5;241m*\u001b[39mkwargs)\n",
      "\u001b[1;31mFileNotFoundError\u001b[0m: [Errno 2] No such file or directory: 'bloodtype2.txt'"
     ]
    }
   ],
   "source": [
    "infile = open('bloodtype2.txt')\n",
    "#Since the file is not available in the root directory so, it will show the File Not Found error.\n",
    "#Filenotfound error bcz neither this file nor directory exsits in the rootdirectory"
   ]
  },
  {
   "cell_type": "markdown",
   "id": "a710e6c6",
   "metadata": {},
   "source": [
    "Question 10\n",
    "\n",
    "Encryption is the process of hiding the meaning of a text by substituting letters in the\n",
    "message with other letters, according to some system. If the process is successful, no\n",
    "one but the intended recipient can understand the encrypted message. Cryptanalysis\n",
    "refers to attempts to undo the encryption, even if some details of the encryption are\n",
    "unknown (for example, if an encrypted message has been intercepted). The first step\n",
    "of cryptanalysis is often to build up a table of letter frequencies in the encrypted text.\n",
    "Assume that the string letters is already defined as\n",
    "'abcdefghijklmnopqrstuvwxyz'. Write a function called frequencies()\n",
    "that takes a string as its only parameter, and returns a list of integers, showing the\n",
    "number of times each character appears in the text. Your function may ignore any\n",
    "characters that are not in letters.\n",
    ">>> frequencies('The quick red fox got bored and went home.')\n",
    "[1, 1, 1, 3, 5, 1, 1, 2, 1, 0, 1, 0, 1, 2, 4, 0, 1, 2, 0, 2,\n",
    "1, 0, 1, 1, 0, 0]\n",
    ">>> frequencies('apple')"
   ]
  },
  {
   "cell_type": "code",
   "execution_count": 61,
   "id": "67dd1b9a",
   "metadata": {},
   "outputs": [
    {
     "ename": "TypeError",
     "evalue": "'list' object is not callable",
     "output_type": "error",
     "traceback": [
      "\u001b[1;31m---------------------------------------------------------------------------\u001b[0m",
      "\u001b[1;31mTypeError\u001b[0m                                 Traceback (most recent call last)",
      "Cell \u001b[1;32mIn[61], line 2\u001b[0m\n\u001b[0;32m      1\u001b[0m x\u001b[38;5;241m=\u001b[39m\u001b[38;5;124m'\u001b[39m\u001b[38;5;124mabcdefghijklmnopqrstuvwxyz\u001b[39m\u001b[38;5;124m'\u001b[39m\n\u001b[1;32m----> 2\u001b[0m alpha\u001b[38;5;241m=\u001b[39m\u001b[38;5;28mlist\u001b[39m(x)\n\u001b[0;32m      4\u001b[0m \u001b[38;5;28;01mdef\u001b[39;00m \u001b[38;5;21mfrequencies\u001b[39m(\u001b[38;5;28mstr\u001b[39m):\n\u001b[0;32m      5\u001b[0m     freq\u001b[38;5;241m=\u001b[39m[] \n",
      "\u001b[1;31mTypeError\u001b[0m: 'list' object is not callable"
     ]
    }
   ],
   "source": [
    "x='abcdefghijklmnopqrstuvwxyz'\n",
    "alpha=list(x)\n",
    "\n",
    "def frequencies(str):\n",
    "    freq=[] \n",
    "\n",
    "    for i in alpha: \n",
    "        freq.append(str.count(i))\n",
    "    print(freq)\n",
    "\n",
    "frequencies('The quick red fox got bored and went home.')\n",
    "frequencies('apple')\n",
    "\n",
    "\n",
    "#I have tried several times to run this code but it is still showing the same error as \"list object is not callable\".\n",
    "#I tried running the same code on online compiler as well and had shown the output also. But it's not shwoing here."
   ]
  }
 ],
 "metadata": {
  "kernelspec": {
   "display_name": "Python 3 (ipykernel)",
   "language": "python",
   "name": "python3"
  },
  "language_info": {
   "codemirror_mode": {
    "name": "ipython",
    "version": 3
   },
   "file_extension": ".py",
   "mimetype": "text/x-python",
   "name": "python",
   "nbconvert_exporter": "python",
   "pygments_lexer": "ipython3",
   "version": "3.11.4"
  }
 },
 "nbformat": 4,
 "nbformat_minor": 5
}
